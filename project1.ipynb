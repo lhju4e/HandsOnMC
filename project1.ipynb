{
 "cells": [
  {
   "cell_type": "code",
   "execution_count": 2,
   "metadata": {},
   "outputs": [],
   "source": [
    "#전체 데이터 셋에서 영화 관련 설문만 뽑아옴.\n",
    "#lable : 성별 // female : 0 male : 1// input : 영화 관련 설문 // \n",
    "#train 7 : test 3\n",
    "\n",
    "\n",
    "import os\n",
    "import tarfile \n",
    "from six.moves import urllib\n",
    "\n",
    "\n",
    "import pandas as pd\n",
    "ori_data = pd.read_csv(\"movie_preferences.csv\")\n",
    "data = ori_data\n",
    "\n",
    "\n",
    "import copy\n",
    "import matplotlib.pyplot as plt\n",
    "import numpy as np\n",
    "import seaborn as sns\n",
    "pd.set_option('display.max_columns',150)\n",
    "plt.style.use('bmh')\n",
    "from IPython.display import display"
   ]
  },
  {
   "cell_type": "code",
   "execution_count": 3,
   "metadata": {},
   "outputs": [
    {
     "name": "stdout",
     "output_type": "stream",
     "text": [
      "<class 'pandas.core.frame.DataFrame'>\n",
      "RangeIndex: 1010 entries, 0 to 1009\n",
      "Data columns (total 12 columns):\n",
      "Horror                 1008 non-null float64\n",
      "Thriller               1009 non-null float64\n",
      "Comedy                 1007 non-null float64\n",
      "Romantic               1007 non-null float64\n",
      "Sci-fi                 1008 non-null float64\n",
      "War                    1008 non-null float64\n",
      "Fantasy/Fairy tales    1007 non-null float64\n",
      "Animated               1007 non-null float64\n",
      "Documentary            1002 non-null float64\n",
      "Western                1006 non-null float64\n",
      "Action                 1008 non-null float64\n",
      "Gender                 1004 non-null object\n",
      "dtypes: float64(11), object(1)\n",
      "memory usage: 94.8+ KB\n"
     ]
    }
   ],
   "source": [
    "data.info()"
   ]
  },
  {
   "cell_type": "code",
   "execution_count": 4,
   "metadata": {},
   "outputs": [],
   "source": [
    "data = data.dropna(subset=[\"Gender\"])"
   ]
  },
  {
   "cell_type": "code",
   "execution_count": 5,
   "metadata": {},
   "outputs": [
    {
     "name": "stdout",
     "output_type": "stream",
     "text": [
      "<class 'pandas.core.frame.DataFrame'>\n",
      "Int64Index: 1004 entries, 0 to 1009\n",
      "Data columns (total 12 columns):\n",
      "Horror                 1002 non-null float64\n",
      "Thriller               1003 non-null float64\n",
      "Comedy                 1001 non-null float64\n",
      "Romantic               1001 non-null float64\n",
      "Sci-fi                 1002 non-null float64\n",
      "War                    1002 non-null float64\n",
      "Fantasy/Fairy tales    1001 non-null float64\n",
      "Animated               1002 non-null float64\n",
      "Documentary            996 non-null float64\n",
      "Western                1000 non-null float64\n",
      "Action                 1002 non-null float64\n",
      "Gender                 1004 non-null object\n",
      "dtypes: float64(11), object(1)\n",
      "memory usage: 102.0+ KB\n"
     ]
    }
   ],
   "source": [
    "data.info()"
   ]
  },
  {
   "cell_type": "code",
   "execution_count": 14,
   "metadata": {},
   "outputs": [
    {
     "name": "stdout",
     "output_type": "stream",
     "text": [
      "<class 'numpy.ndarray'>\n"
     ]
    },
    {
     "ename": "AttributeError",
     "evalue": "'numpy.ndarray' object has no attribute 'toarray'",
     "output_type": "error",
     "traceback": [
      "\u001b[1;31m---------------------------------------------------------------------------\u001b[0m",
      "\u001b[1;31mAttributeError\u001b[0m                            Traceback (most recent call last)",
      "\u001b[1;32m<ipython-input-14-ec3c1650306e>\u001b[0m in \u001b[0;36m<module>\u001b[1;34m()\u001b[0m\n\u001b[0;32m      2\u001b[0m \u001b[0mgender_bi_encoded\u001b[0m\u001b[1;33m,\u001b[0m \u001b[0mgender_cate\u001b[0m \u001b[1;33m=\u001b[0m \u001b[0mgender_bi\u001b[0m\u001b[1;33m.\u001b[0m\u001b[0mfactorize\u001b[0m\u001b[1;33m(\u001b[0m\u001b[1;33m)\u001b[0m\u001b[1;33m\u001b[0m\u001b[0m\n\u001b[0;32m      3\u001b[0m \u001b[0mprint\u001b[0m\u001b[1;33m(\u001b[0m\u001b[0mtype\u001b[0m\u001b[1;33m(\u001b[0m\u001b[0mgender_bi_encoded\u001b[0m\u001b[1;33m)\u001b[0m\u001b[1;33m)\u001b[0m\u001b[1;33m\u001b[0m\u001b[0m\n\u001b[1;32m----> 4\u001b[1;33m \u001b[0mdata\u001b[0m\u001b[1;33m.\u001b[0m\u001b[0mloc\u001b[0m\u001b[1;33m[\u001b[0m\u001b[1;34m\"Gender\"\u001b[0m\u001b[1;33m]\u001b[0m \u001b[1;33m=\u001b[0m \u001b[0mgender_bi_encoded\u001b[0m\u001b[1;33m.\u001b[0m\u001b[0mtoarray\u001b[0m\u001b[1;33m(\u001b[0m\u001b[1;33m)\u001b[0m\u001b[1;33m\u001b[0m\u001b[0m\n\u001b[0m",
      "\u001b[1;31mAttributeError\u001b[0m: 'numpy.ndarray' object has no attribute 'toarray'"
     ]
    }
   ],
   "source": [
    "gender_bi = data[\"Gender\"]\n",
    "gender_bi_encoded, gender_cate = gender_bi.factorize()\n",
    "print(type(gender_bi_encoded)) ##np.transpose해보기\n",
    "data.loc[\"Gender\"] = gender_bi_encoded.toarray()"
   ]
  },
  {
   "cell_type": "code",
   "execution_count": null,
   "metadata": {},
   "outputs": [],
   "source": [
    "#레이블값 분리\n",
    "data_label = data[\"Gender\"].copy()"
   ]
  },
  {
   "cell_type": "code",
   "execution_count": 9,
   "metadata": {},
   "outputs": [
    {
     "ename": "KeyError",
     "evalue": "'[   7  252  695  519  892  412  249  580  441  667  708  105  384  246\\n  304  654   26  574  291  544  402  229  204  372  458  134  159  241\\n  336  312  990  332  460  658  161  274    9   33  875   93  982  618\\n  682  543  218  721  587  868  343  267  232  586  988  318  932  120\\n  439  730  676   22  158  959  894  626  709   98  456  888  138  205\\n  557  734  968  980  668  910  772  958  172  562  815    2  103  207\\n  605  582  499  302  913  482  326  523  757   59  796  112  483  631\\n  131  268  799  454  935  843   32  986  762  765  317  344  447  170\\n  315  550  649  126  779   45  945  928   23  837  309  867  190  916\\n  423  189  850  514  547  284  798  527  157  438  234  716  972  841\\n  505  802  585  826   37  800  351  353  203  898  509  766  714  223\\n  277  271  435  110  644  828  601  217  984  378  909  670  924  215\\n  861  877  526  420  282  606   71  588  222  784  270  966  970   52\\n  817  919  173  324  247  699  705  941  479   12  664  401  669  616\\n  761  831  685  549  954  308  492  545   89  500   34  202  478  542\\n  220  788  108  869  195  517  946  845  416  115  477  470  904  488\\n  363  660 1003  371  219  939  292  307  854  362  254  424  287  434\\n   43  403  797  767  162  375  484  718  901  211  758  897    6  807\\n  883  722  242  520  926  836  359  683   82  656  331  693  816  964\\n  773   86  334  642  404  610  851  469  645  680  604  153  907  917\\n  147  789  625  427  806  778  969  737  681   13  296  920  741  570\\n  414  849  340  886   96  356  829  169  747  881  266  936  865  540\\n  739  554  237  961  996    8  962  208  603  451   69   40  480   67\\n  295  792  119  687  431   75  141  400  906  893  729   73  661  425\\n  125  316  720  474  198  726  411  320  257  930  163  117  194   60\\n  712  978  256  225  777  551  607  539  621  286  573  135  781  515\\n  455  675  367  278  617  531  248   61  177  698  113  825  187  319\\n  149  921  812  486  872  652  727  361  373  338  707  298  518  940\\n  210  339  963  201  740  571  908  764  200  182  889  502  732   49\\n  275  733  780  244  597  711  139  696  619    3  279  417  386  473\\n  253  385  168  673  541  260  398  239   35  123  801  140   95  313\\n   15   90  577  465  890  212  328 1001  357  467  874  107  294  879\\n  873   83  859  238  694  528  979  632  250  299  848  743  122  129\\n  774  751  997  497   80  870  704  742   31  148  651  630  481  805\\n   76  692  538  290  429  175  791  399  922  955  396   50  912  130\\n  933  976  900   62  507  395  677  623  989   20  506   87  265  408\\n  589  754  355  101  659  491  627  556  929  243  325  783  634  971\\n  306  552  902  537  422  152   72  948  132  166  214  186  156  949\\n  419  560    0   77  180  911  251  280  116  314  612  728  628  236\\n  609  882  846   51  725  160  445  565  569  327  842  421 1002  442\\n  808  381  228  407  136  496  245  463  641  684  723  128  992  191\\n   94  884  686  744  719  471  827  965  678  508   42  337  293  760\\n  814  487  967  830  662  995   99  672   11  255  461  143  833  813\\n  533  691  700  674  444  504  564  595  111 1000  178  476  596   36\\n  283  636  513  769   10  923  192  494  804  703   84  462  666  655\\n  345  782  288  960   24  594  233  335  753  525   25  391  415  957\\n  259  572  819  397  155  530  793  638   66  578  446  975  188   18\\n  735  715  991   46   70  493  950  366  795  738  310  710  614  905\\n  600  857  144  823  501  379  360  297  942  956   64   55  896  647\\n  524  834  566  663   74  937  281  629  983  535  947  756  181  199\\n  226  697] not in index'",
     "output_type": "error",
     "traceback": [
      "\u001b[1;31m---------------------------------------------------------------------------\u001b[0m",
      "\u001b[1;31mKeyError\u001b[0m                                  Traceback (most recent call last)",
      "\u001b[1;32m<ipython-input-9-cb49c118c067>\u001b[0m in \u001b[0;36m<module>\u001b[1;34m()\u001b[0m\n\u001b[0;32m      6\u001b[0m \u001b[0msplit\u001b[0m \u001b[1;33m=\u001b[0m \u001b[0mStratifiedShuffleSplit\u001b[0m\u001b[1;33m(\u001b[0m\u001b[0mn_splits\u001b[0m\u001b[1;33m=\u001b[0m\u001b[1;36m1\u001b[0m\u001b[1;33m,\u001b[0m \u001b[0mtest_size\u001b[0m\u001b[1;33m=\u001b[0m\u001b[1;36m0.3\u001b[0m\u001b[1;33m,\u001b[0m \u001b[0mrandom_state\u001b[0m\u001b[1;33m=\u001b[0m\u001b[1;36m42\u001b[0m\u001b[1;33m)\u001b[0m\u001b[1;33m\u001b[0m\u001b[0m\n\u001b[0;32m      7\u001b[0m \u001b[1;32mfor\u001b[0m \u001b[0mtrain_index\u001b[0m\u001b[1;33m,\u001b[0m \u001b[0mtest_index\u001b[0m \u001b[1;32min\u001b[0m \u001b[0msplit\u001b[0m\u001b[1;33m.\u001b[0m\u001b[0msplit\u001b[0m\u001b[1;33m(\u001b[0m\u001b[0mdata\u001b[0m\u001b[1;33m,\u001b[0m \u001b[0mdata\u001b[0m\u001b[1;33m[\u001b[0m\u001b[1;34m\"Gender\"\u001b[0m\u001b[1;33m]\u001b[0m\u001b[1;33m)\u001b[0m\u001b[1;33m:\u001b[0m\u001b[1;33m\u001b[0m\u001b[0m\n\u001b[1;32m----> 8\u001b[1;33m     \u001b[0mstrat_train_set\u001b[0m \u001b[1;33m=\u001b[0m \u001b[0mdata\u001b[0m\u001b[1;33m[\u001b[0m\u001b[0mtrain_index\u001b[0m\u001b[1;33m]\u001b[0m\u001b[1;33m\u001b[0m\u001b[0m\n\u001b[0m\u001b[0;32m      9\u001b[0m     \u001b[0mstrat_test_set\u001b[0m \u001b[1;33m=\u001b[0m \u001b[0mdata\u001b[0m\u001b[1;33m[\u001b[0m\u001b[0mtest_index\u001b[0m\u001b[1;33m]\u001b[0m\u001b[1;33m\u001b[0m\u001b[0m\n\u001b[0;32m     10\u001b[0m \u001b[1;33m\u001b[0m\u001b[0m\n",
      "\u001b[1;32m~\\AppData\\Local\\conda\\conda\\envs\\tensorflow\\lib\\site-packages\\pandas\\core\\frame.py\u001b[0m in \u001b[0;36m__getitem__\u001b[1;34m(self, key)\u001b[0m\n\u001b[0;32m   2677\u001b[0m         \u001b[1;32mif\u001b[0m \u001b[0misinstance\u001b[0m\u001b[1;33m(\u001b[0m\u001b[0mkey\u001b[0m\u001b[1;33m,\u001b[0m \u001b[1;33m(\u001b[0m\u001b[0mSeries\u001b[0m\u001b[1;33m,\u001b[0m \u001b[0mnp\u001b[0m\u001b[1;33m.\u001b[0m\u001b[0mndarray\u001b[0m\u001b[1;33m,\u001b[0m \u001b[0mIndex\u001b[0m\u001b[1;33m,\u001b[0m \u001b[0mlist\u001b[0m\u001b[1;33m)\u001b[0m\u001b[1;33m)\u001b[0m\u001b[1;33m:\u001b[0m\u001b[1;33m\u001b[0m\u001b[0m\n\u001b[0;32m   2678\u001b[0m             \u001b[1;31m# either boolean or fancy integer index\u001b[0m\u001b[1;33m\u001b[0m\u001b[1;33m\u001b[0m\u001b[0m\n\u001b[1;32m-> 2679\u001b[1;33m             \u001b[1;32mreturn\u001b[0m \u001b[0mself\u001b[0m\u001b[1;33m.\u001b[0m\u001b[0m_getitem_array\u001b[0m\u001b[1;33m(\u001b[0m\u001b[0mkey\u001b[0m\u001b[1;33m)\u001b[0m\u001b[1;33m\u001b[0m\u001b[0m\n\u001b[0m\u001b[0;32m   2680\u001b[0m         \u001b[1;32melif\u001b[0m \u001b[0misinstance\u001b[0m\u001b[1;33m(\u001b[0m\u001b[0mkey\u001b[0m\u001b[1;33m,\u001b[0m \u001b[0mDataFrame\u001b[0m\u001b[1;33m)\u001b[0m\u001b[1;33m:\u001b[0m\u001b[1;33m\u001b[0m\u001b[0m\n\u001b[0;32m   2681\u001b[0m             \u001b[1;32mreturn\u001b[0m \u001b[0mself\u001b[0m\u001b[1;33m.\u001b[0m\u001b[0m_getitem_frame\u001b[0m\u001b[1;33m(\u001b[0m\u001b[0mkey\u001b[0m\u001b[1;33m)\u001b[0m\u001b[1;33m\u001b[0m\u001b[0m\n",
      "\u001b[1;32m~\\AppData\\Local\\conda\\conda\\envs\\tensorflow\\lib\\site-packages\\pandas\\core\\frame.py\u001b[0m in \u001b[0;36m_getitem_array\u001b[1;34m(self, key)\u001b[0m\n\u001b[0;32m   2721\u001b[0m             \u001b[1;32mreturn\u001b[0m \u001b[0mself\u001b[0m\u001b[1;33m.\u001b[0m\u001b[0m_take\u001b[0m\u001b[1;33m(\u001b[0m\u001b[0mindexer\u001b[0m\u001b[1;33m,\u001b[0m \u001b[0maxis\u001b[0m\u001b[1;33m=\u001b[0m\u001b[1;36m0\u001b[0m\u001b[1;33m)\u001b[0m\u001b[1;33m\u001b[0m\u001b[0m\n\u001b[0;32m   2722\u001b[0m         \u001b[1;32melse\u001b[0m\u001b[1;33m:\u001b[0m\u001b[1;33m\u001b[0m\u001b[0m\n\u001b[1;32m-> 2723\u001b[1;33m             \u001b[0mindexer\u001b[0m \u001b[1;33m=\u001b[0m \u001b[0mself\u001b[0m\u001b[1;33m.\u001b[0m\u001b[0mloc\u001b[0m\u001b[1;33m.\u001b[0m\u001b[0m_convert_to_indexer\u001b[0m\u001b[1;33m(\u001b[0m\u001b[0mkey\u001b[0m\u001b[1;33m,\u001b[0m \u001b[0maxis\u001b[0m\u001b[1;33m=\u001b[0m\u001b[1;36m1\u001b[0m\u001b[1;33m)\u001b[0m\u001b[1;33m\u001b[0m\u001b[0m\n\u001b[0m\u001b[0;32m   2724\u001b[0m             \u001b[1;32mreturn\u001b[0m \u001b[0mself\u001b[0m\u001b[1;33m.\u001b[0m\u001b[0m_take\u001b[0m\u001b[1;33m(\u001b[0m\u001b[0mindexer\u001b[0m\u001b[1;33m,\u001b[0m \u001b[0maxis\u001b[0m\u001b[1;33m=\u001b[0m\u001b[1;36m1\u001b[0m\u001b[1;33m)\u001b[0m\u001b[1;33m\u001b[0m\u001b[0m\n\u001b[0;32m   2725\u001b[0m \u001b[1;33m\u001b[0m\u001b[0m\n",
      "\u001b[1;32m~\\AppData\\Local\\conda\\conda\\envs\\tensorflow\\lib\\site-packages\\pandas\\core\\indexing.py\u001b[0m in \u001b[0;36m_convert_to_indexer\u001b[1;34m(self, obj, axis, is_setter)\u001b[0m\n\u001b[0;32m   1325\u001b[0m                 \u001b[1;32mif\u001b[0m \u001b[0mmask\u001b[0m\u001b[1;33m.\u001b[0m\u001b[0many\u001b[0m\u001b[1;33m(\u001b[0m\u001b[1;33m)\u001b[0m\u001b[1;33m:\u001b[0m\u001b[1;33m\u001b[0m\u001b[0m\n\u001b[0;32m   1326\u001b[0m                     raise KeyError('{mask} not in index'\n\u001b[1;32m-> 1327\u001b[1;33m                                    .format(mask=objarr[mask]))\n\u001b[0m\u001b[0;32m   1328\u001b[0m \u001b[1;33m\u001b[0m\u001b[0m\n\u001b[0;32m   1329\u001b[0m                 \u001b[1;32mreturn\u001b[0m \u001b[0mcom\u001b[0m\u001b[1;33m.\u001b[0m\u001b[0m_values_from_object\u001b[0m\u001b[1;33m(\u001b[0m\u001b[0mindexer\u001b[0m\u001b[1;33m)\u001b[0m\u001b[1;33m\u001b[0m\u001b[0m\n",
      "\u001b[1;31mKeyError\u001b[0m: '[   7  252  695  519  892  412  249  580  441  667  708  105  384  246\\n  304  654   26  574  291  544  402  229  204  372  458  134  159  241\\n  336  312  990  332  460  658  161  274    9   33  875   93  982  618\\n  682  543  218  721  587  868  343  267  232  586  988  318  932  120\\n  439  730  676   22  158  959  894  626  709   98  456  888  138  205\\n  557  734  968  980  668  910  772  958  172  562  815    2  103  207\\n  605  582  499  302  913  482  326  523  757   59  796  112  483  631\\n  131  268  799  454  935  843   32  986  762  765  317  344  447  170\\n  315  550  649  126  779   45  945  928   23  837  309  867  190  916\\n  423  189  850  514  547  284  798  527  157  438  234  716  972  841\\n  505  802  585  826   37  800  351  353  203  898  509  766  714  223\\n  277  271  435  110  644  828  601  217  984  378  909  670  924  215\\n  861  877  526  420  282  606   71  588  222  784  270  966  970   52\\n  817  919  173  324  247  699  705  941  479   12  664  401  669  616\\n  761  831  685  549  954  308  492  545   89  500   34  202  478  542\\n  220  788  108  869  195  517  946  845  416  115  477  470  904  488\\n  363  660 1003  371  219  939  292  307  854  362  254  424  287  434\\n   43  403  797  767  162  375  484  718  901  211  758  897    6  807\\n  883  722  242  520  926  836  359  683   82  656  331  693  816  964\\n  773   86  334  642  404  610  851  469  645  680  604  153  907  917\\n  147  789  625  427  806  778  969  737  681   13  296  920  741  570\\n  414  849  340  886   96  356  829  169  747  881  266  936  865  540\\n  739  554  237  961  996    8  962  208  603  451   69   40  480   67\\n  295  792  119  687  431   75  141  400  906  893  729   73  661  425\\n  125  316  720  474  198  726  411  320  257  930  163  117  194   60\\n  712  978  256  225  777  551  607  539  621  286  573  135  781  515\\n  455  675  367  278  617  531  248   61  177  698  113  825  187  319\\n  149  921  812  486  872  652  727  361  373  338  707  298  518  940\\n  210  339  963  201  740  571  908  764  200  182  889  502  732   49\\n  275  733  780  244  597  711  139  696  619    3  279  417  386  473\\n  253  385  168  673  541  260  398  239   35  123  801  140   95  313\\n   15   90  577  465  890  212  328 1001  357  467  874  107  294  879\\n  873   83  859  238  694  528  979  632  250  299  848  743  122  129\\n  774  751  997  497   80  870  704  742   31  148  651  630  481  805\\n   76  692  538  290  429  175  791  399  922  955  396   50  912  130\\n  933  976  900   62  507  395  677  623  989   20  506   87  265  408\\n  589  754  355  101  659  491  627  556  929  243  325  783  634  971\\n  306  552  902  537  422  152   72  948  132  166  214  186  156  949\\n  419  560    0   77  180  911  251  280  116  314  612  728  628  236\\n  609  882  846   51  725  160  445  565  569  327  842  421 1002  442\\n  808  381  228  407  136  496  245  463  641  684  723  128  992  191\\n   94  884  686  744  719  471  827  965  678  508   42  337  293  760\\n  814  487  967  830  662  995   99  672   11  255  461  143  833  813\\n  533  691  700  674  444  504  564  595  111 1000  178  476  596   36\\n  283  636  513  769   10  923  192  494  804  703   84  462  666  655\\n  345  782  288  960   24  594  233  335  753  525   25  391  415  957\\n  259  572  819  397  155  530  793  638   66  578  446  975  188   18\\n  735  715  991   46   70  493  950  366  795  738  310  710  614  905\\n  600  857  144  823  501  379  360  297  942  956   64   55  896  647\\n  524  834  566  663   74  937  281  629  983  535  947  756  181  199\\n  226  697] not in index'"
     ]
    }
   ],
   "source": [
    "#테스트 세트 만들기 train 7 : test 3\n",
    "\n",
    "from sklearn.model_selection import train_test_split\n",
    "from sklearn.model_selection import StratifiedShuffleSplit\n",
    "\n",
    "split = StratifiedShuffleSplit(n_splits=1, test_size=0.3, random_state=42)\n",
    "for train_index, test_index in split.split(data, data[\"Gender\"]):\n",
    "    strat_train_set = data[train_index]\n",
    "    strat_test_set = data[test_index]\n",
    "    \n",
    "\n",
    "data = strat_train_set.copy()\n",
    "\n",
    "\n",
    "\n",
    "\n",
    "\n"
   ]
  },
  {
   "cell_type": "code",
   "execution_count": null,
   "metadata": {},
   "outputs": [],
   "source": []
  }
 ],
 "metadata": {
  "kernelspec": {
   "display_name": "Python 3",
   "language": "python",
   "name": "python3"
  },
  "language_info": {
   "codemirror_mode": {
    "name": "ipython",
    "version": 3
   },
   "file_extension": ".py",
   "mimetype": "text/x-python",
   "name": "python",
   "nbconvert_exporter": "python",
   "pygments_lexer": "ipython3",
   "version": "3.6.5"
  }
 },
 "nbformat": 4,
 "nbformat_minor": 2
}
